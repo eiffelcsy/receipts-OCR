{
 "cells": [
  {
   "cell_type": "code",
   "execution_count": 1,
   "metadata": {},
   "outputs": [],
   "source": [
    "import os\n",
    "import glob\n",
    "import numpy as np\n",
    "import string\n",
    "import cv2\n",
    "from PIL import Image\n",
    "import matplotlib.pyplot as plt\n",
    "\n",
    "import torch\n",
    "from torch.utils.data import Dataset, DataLoader\n",
    "from torch.nn import CTCLoss\n",
    "import torch.nn as nn\n",
    "import torch.optim as optim\n",
    "from torchvision import transforms"
   ]
  },
  {
   "cell_type": "code",
   "execution_count": 2,
   "metadata": {},
   "outputs": [],
   "source": [
    "characters = string.ascii_letters + string.digits\n",
    "char_to_idx = {char: idx + 1 for idx, char in enumerate(characters)}\n",
    "char_to_idx['<BLANK>'] = 0\n",
    "idx_to_char = {idx: char for char, idx in char_to_idx.items()}"
   ]
  },
  {
   "cell_type": "code",
   "execution_count": 3,
   "metadata": {},
   "outputs": [],
   "source": [
    "transform = transforms.Compose([\n",
    "    transforms.Resize((32, 128)),\n",
    "    transforms.Grayscale(num_output_channels=1),\n",
    "    transforms.ToTensor(),\n",
    "    transforms.Normalize((0.5,), (0.5,))\n",
    "])"
   ]
  },
  {
   "cell_type": "code",
   "execution_count": 4,
   "metadata": {},
   "outputs": [],
   "source": [
    "class ReceiptDataset(Dataset):\n",
    "    def __init__(self, images_dir, transform=None):\n",
    "        self.images_dir = images_dir\n",
    "        self.image_files = glob.glob(os.path.join(images_dir, '*.jpg'))\n",
    "        self.transform = transform\n",
    "\n",
    "        self.samples = []\n",
    "\n",
    "        for img_path in self.image_files:\n",
    "            txt_path = img_path.replace('.jpg', '.txt')\n",
    "            if not os.path.exists(txt_path):\n",
    "                continue  # Skip if annotation file does not exist\n",
    "\n",
    "            try:\n",
    "                with open(txt_path, 'r', encoding='utf-8') as f:\n",
    "                    lines = f.readlines()\n",
    "            except UnicodeDecodeError as e:\n",
    "                print(f\"Error reading file {txt_path}: {e}\")\n",
    "                continue  # Skip this file or handle it as needed\n",
    "\n",
    "            for line in lines:\n",
    "                # Process each line as before\n",
    "                line = line.strip()\n",
    "                if not line:\n",
    "                    continue  # Skip empty lines\n",
    "                parts = line.strip().split(',')\n",
    "                if len(parts) < 9:\n",
    "                    continue  # Invalid annotation format\n",
    "                coords = list(map(int, parts[:8]))\n",
    "                transcript = ','.join(parts[8:]).strip()\n",
    "                self.samples.append({\n",
    "                    'image_path': img_path,\n",
    "                    'coords': coords,\n",
    "                    'transcript': transcript\n",
    "                })\n",
    "\n",
    "\n",
    "    def __len__(self):\n",
    "        return len(self.samples)\n",
    "\n",
    "    def __getitem__(self, idx):\n",
    "        sample = self.samples[idx]\n",
    "        img = cv2.imread(sample['image_path'])\n",
    "        if img is None:\n",
    "            raise FileNotFoundError(f\"Image not found: {sample['image_path']}\")\n",
    "\n",
    "        # Coordinates of the bounding box\n",
    "        coords = sample['coords']\n",
    "        pts = np.array(coords, dtype='float32').reshape(4, 2)\n",
    "\n",
    "        # Calculate width and height of the cropped image\n",
    "        width = int(max(np.linalg.norm(pts[0] - pts[1]), np.linalg.norm(pts[2] - pts[3])))\n",
    "        height = int(max(np.linalg.norm(pts[0] - pts[3]), np.linalg.norm(pts[1] - pts[2])))\n",
    "\n",
    "        # Destination points for the perspective transform\n",
    "        dst_pts = np.array([\n",
    "            [0, 0],\n",
    "            [width - 1, 0],\n",
    "            [width - 1, height - 1],\n",
    "            [0, height - 1]\n",
    "        ], dtype='float32')\n",
    "\n",
    "        # Compute the perspective transform matrix\n",
    "        M = cv2.getPerspectiveTransform(pts, dst_pts)\n",
    "\n",
    "        # Perform the perspective transform\n",
    "        warped = cv2.warpPerspective(img, M, (width, height))\n",
    "\n",
    "        # Convert to PIL Image\n",
    "        cropped_img = Image.fromarray(cv2.cvtColor(warped, cv2.COLOR_BGR2RGB))\n",
    "\n",
    "        if self.transform:\n",
    "            cropped_img = self.transform(cropped_img)\n",
    "\n",
    "        # Encode the transcript\n",
    "        transcript = sample['transcript']\n",
    "        label = [char_to_idx[char] for char in transcript if char in char_to_idx]\n",
    "\n",
    "        return cropped_img, torch.tensor(label, dtype=torch.long)"
   ]
  },
  {
   "cell_type": "code",
   "execution_count": 5,
   "metadata": {},
   "outputs": [],
   "source": [
    "train_images_dir = 'dataset/train'\n",
    "test_images_dir = 'dataset/test'\n",
    "\n",
    "train_dataset = ReceiptDataset(images_dir=train_images_dir, transform=transform)\n",
    "test_dataset = ReceiptDataset(images_dir=test_images_dir, transform=transform)"
   ]
  },
  {
   "cell_type": "code",
   "execution_count": 6,
   "metadata": {},
   "outputs": [
    {
     "data": {
      "image/png": "[encoded data removed]",
      "text/plain": [
       "<Figure size 640x480 with 1 Axes>"
      ]
     },
     "metadata": {},
     "output_type": "display_data"
    },
    {
     "data": {
      "image/png": "[encoded data removed]",
      "text/plain": [
       "<Figure size 640x480 with 1 Axes>"
      ]
     },
     "metadata": {},
     "output_type": "display_data"
    },
    {
     "data": {
      "image/png": "[encoded data removed]",
      "text/plain": [
       "<Figure size 640x480 with 1 Axes>"
      ]
     },
     "metadata": {},
     "output_type": "display_data"
    },
    {
     "data": {
      "image/png": "[encoded data removed]",
      "text/plain": [
       "<Figure size 640x480 with 1 Axes>"
      ]
     },
     "metadata": {},
     "output_type": "display_data"
    },
    {
     "data": {
      "image/png": "[encoded data removed]",
      "text/plain": [
       "<Figure size 640x480 with 1 Axes>"
      ]
     },
     "metadata": {},
     "output_type": "display_data"
    }
   ],
   "source": [
    "def show_sample(dataset, index):\n",
    "    image, label = dataset[index]\n",
    "    image_np = image.permute(1, 2, 0).numpy()  # Convert to HWC format\n",
    "    image_np = (image_np * 0.5) + 0.5  # Unnormalize\n",
    "    image_np = np.clip(image_np, 0, 1)\n",
    "    label_text = ''.join([idx_to_char[idx.item()] for idx in label])\n",
    "\n",
    "    plt.imshow(image_np)\n",
    "    plt.title(f'Label: {label_text}')\n",
    "    plt.axis('off')\n",
    "    plt.show()\n",
    "\n",
    "# Show a few samples from the training set\n",
    "for idx in range(5):\n",
    "    show_sample(train_dataset, idx)"
   ]
  },
  {
   "cell_type": "code",
   "execution_count": 7,
   "metadata": {},
   "outputs": [],
   "source": [
    "def collate_fn(batch):\n",
    "    images, labels = zip(*batch)\n",
    "\n",
    "    max_width = max([img.size(2) for img in images])\n",
    "    batch_size = len(images)\n",
    "    channels = images[0].size(0)\n",
    "    height = images[0].size(1)\n",
    "\n",
    "    padded_images = torch.zeros(batch_size, channels, height, max_width)\n",
    "\n",
    "    for i, img in enumerate(images):\n",
    "        width = img.size(2)\n",
    "        padded_images[i, :, :, :width] = img\n",
    "\n",
    "    label_lengths = torch.tensor([len(label) for label in labels], dtype=torch.long)\n",
    "\n",
    "    labels = torch.cat(labels)\n",
    "\n",
    "    return padded_images, labels, label_lengths"
   ]
  },
  {
   "cell_type": "code",
   "execution_count": 8,
   "metadata": {},
   "outputs": [],
   "source": [
    "train_loader = DataLoader(train_dataset, batch_size=128, shuffle=True, collate_fn=collate_fn)\n",
    "test_loader = DataLoader(test_dataset, batch_size=128, shuffle=False, collate_fn=collate_fn)"
   ]
  },
  {
   "cell_type": "code",
   "execution_count": 9,
   "metadata": {},
   "outputs": [],
   "source": [
    "class BidirectionalLSTM(nn.Module):\n",
    "    def __init__(self, nIn, nHidden, nOut):\n",
    "        super(BidirectionalLSTM, self).__init__()\n",
    "        self.rnn = nn.LSTM(nIn, nHidden, bidirectional=True)\n",
    "        self.linear = nn.Linear(nHidden * 2, nOut)\n",
    "\n",
    "    def forward(self, x):\n",
    "        recurrent, _ = self.rnn(x)\n",
    "        T, b, h = recurrent.size()\n",
    "        output = self.linear(recurrent.view(T * b, h))\n",
    "        output = output.view(T, b, -1)\n",
    "        return output\n",
    "\n",
    "class CRNN(nn.Module):\n",
    "    def __init__(self, imgH, nc, nclass, nh):\n",
    "        super(CRNN, self).__init__()\n",
    "\n",
    "        self.cnn = nn.Sequential(\n",
    "            nn.Conv2d(nc, 64, 3, 1, 1), nn.BatchNorm2d(64), nn.ReLU(),\n",
    "            nn.MaxPool2d(2, 2),\n",
    "            nn.Conv2d(64, 128, 3, 1, 1), nn.BatchNorm2d(128), nn.ReLU(),\n",
    "            nn.MaxPool2d(2, 2),\n",
    "            nn.Conv2d(128, 256, 3, 1, 1), nn.BatchNorm2d(256), nn.ReLU(),\n",
    "            nn.Conv2d(256, 256, 3, 1, 1), nn.BatchNorm2d(256), nn.ReLU(),\n",
    "            nn.MaxPool2d((2, 1), (2, 1)),\n",
    "            nn.Conv2d(256, 512, 3, 1, 1), nn.BatchNorm2d(512), nn.ReLU(),\n",
    "            nn.Conv2d(512, 512, 3, 1, 1), nn.BatchNorm2d(512), nn.ReLU(),\n",
    "            nn.MaxPool2d((2, 1), (2, 1)),\n",
    "            nn.Conv2d(512, 512, 2, 1, 0), nn.BatchNorm2d(512), nn.ReLU(),\n",
    "        )\n",
    "\n",
    "        self.rnn = nn.Sequential(\n",
    "            BidirectionalLSTM(512, nh, nh),\n",
    "            BidirectionalLSTM(nh, nh, nclass)\n",
    "        )\n",
    "\n",
    "    def forward(self, x):\n",
    "        conv = self.cnn(x)\n",
    "        b, c, h, w = conv.size()\n",
    "        assert h == 1, 'Expected height of conv features to be 1'\n",
    "        conv = conv.squeeze(2) \n",
    "        conv = conv.permute(2, 0, 1)  \n",
    "        output = self.rnn(conv)\n",
    "        return output\n"
   ]
  },
  {
   "cell_type": "code",
   "execution_count": 10,
   "metadata": {},
   "outputs": [],
   "source": [
    "model = CRNN(imgH=32, nc=1, nclass=len(char_to_idx), nh=256)\n",
    "\n",
    "criterion = CTCLoss(blank=0, zero_infinity=True)\n",
    "optimizer = optim.Adam(model.parameters(), lr=0.001)"
   ]
  },
  {
   "cell_type": "code",
   "execution_count": 11,
   "metadata": {},
   "outputs": [],
   "source": [
    "def decode_predictions(outputs):\n",
    "    outputs = outputs.permute(1, 0, 2)\n",
    "    batch_size = outputs.size(0)\n",
    "    _, preds = outputs.max(2)\n",
    "    preds = preds.cpu().numpy()\n",
    "\n",
    "    decoded_texts = []\n",
    "    for i in range(batch_size):\n",
    "        pred = preds[i]\n",
    "        pred_text = ''\n",
    "        prev_idx = -1\n",
    "        for idx in pred:\n",
    "            if idx != prev_idx and idx != 0:\n",
    "                char = idx_to_char.get(idx, '')\n",
    "                pred_text += char\n",
    "            prev_idx = idx\n",
    "        decoded_texts.append(pred_text)\n",
    "    return decoded_texts\n"
   ]
  },
  {
   "cell_type": "code",
   "execution_count": 12,
   "metadata": {},
   "outputs": [],
   "source": [
    "device = torch.device('cuda' if torch.cuda.is_available() else 'cpu')\n",
    "model = model.to(device)"
   ]
  },
  {
   "cell_type": "code",
   "execution_count": 13,
   "metadata": {},
   "outputs": [],
   "source": [
    "from tqdm import tqdm\n",
    "\n",
    "def decode_predictions(outputs):\n",
    "    # Greedy decoding\n",
    "    outputs = outputs.permute(1, 0, 2)  # (T, N, C) -> (N, T, C)\n",
    "    batch_size = outputs.size(0)\n",
    "    _, preds = outputs.max(2)\n",
    "    preds = preds.cpu().numpy()\n",
    "\n",
    "    decoded_texts = []\n",
    "    for i in range(batch_size):\n",
    "        pred = preds[i]\n",
    "        # Remove consecutive duplicates and blanks\n",
    "        pred_text = ''\n",
    "        prev_idx = -1\n",
    "        for idx in pred:\n",
    "            if idx != prev_idx and idx != 0:\n",
    "                char = idx_to_char.get(idx, '')\n",
    "                pred_text += char\n",
    "            prev_idx = idx\n",
    "        decoded_texts.append(pred_text)\n",
    "    return decoded_texts\n",
    "\n",
    "def train_model(model, train_loader, criterion, optimizer, num_epochs=10):\n",
    "    train_losses = []\n",
    "    train_accuracies = []\n",
    "\n",
    "    for epoch in range(num_epochs):\n",
    "        model.train()\n",
    "        epoch_loss = 0\n",
    "        correct_samples = 0\n",
    "        total_samples = 0\n",
    "\n",
    "        # Wrap the data loader with tqdm\n",
    "        progress_bar = tqdm(train_loader, leave=True)\n",
    "        for images, labels, label_lengths in progress_bar:\n",
    "            images = images.to(device)\n",
    "            labels = labels.to(device)\n",
    "            label_lengths = label_lengths.to(device)\n",
    "\n",
    "            optimizer.zero_grad()\n",
    "\n",
    "            outputs = model(images) \n",
    "            T, batch_size, nclass = outputs.size()\n",
    "\n",
    "            input_lengths = torch.full(size=(batch_size,), fill_value=T, dtype=torch.long).to(device)\n",
    "\n",
    "            outputs = outputs.log_softmax(2)\n",
    "            loss = criterion(outputs, labels, input_lengths, label_lengths)\n",
    "\n",
    "            loss.backward()\n",
    "            optimizer.step()\n",
    "\n",
    "            epoch_loss += loss.item()\n",
    "\n",
    "            # Calculate accuracy\n",
    "            with torch.no_grad():\n",
    "                # Decode the outputs\n",
    "                decoded_texts = decode_predictions(outputs)\n",
    "                # Get ground truth texts\n",
    "                labels_cpu = labels.cpu().numpy()\n",
    "                label_lengths_cpu = label_lengths.cpu().numpy()\n",
    "\n",
    "                idx = 0\n",
    "                ground_truth_texts = []\n",
    "                for length in label_lengths_cpu:\n",
    "                    label_seq = labels_cpu[idx:idx+length]\n",
    "                    text = ''.join([idx_to_char.get(l, '') for l in label_seq])\n",
    "                    ground_truth_texts.append(text)\n",
    "                    idx += length\n",
    "\n",
    "                # Compare predictions with ground truth\n",
    "                batch_correct = sum(pred_text == true_text for pred_text, true_text in zip(decoded_texts, ground_truth_texts))\n",
    "                correct_samples += batch_correct\n",
    "                total_samples += len(ground_truth_texts)\n",
    "\n",
    "            # Update progress bar\n",
    "            accuracy = 100.0 * correct_samples / total_samples if total_samples > 0 else 0.0\n",
    "            avg_loss = epoch_loss / (total_samples / batch_size)  # Adjust if necessary\n",
    "\n",
    "            progress_bar.set_description(f\"Epoch {epoch+1}/{num_epochs}\")\n",
    "            progress_bar.set_postfix(loss=avg_loss, accuracy=f'{accuracy:.2f}%')\n",
    "\n",
    "        avg_loss = epoch_loss / len(train_loader)\n",
    "        epoch_accuracy = 100.0 * correct_samples / total_samples if total_samples > 0 else 0.0\n",
    "\n",
    "        train_losses.append(avg_loss)\n",
    "        train_accuracies.append(epoch_accuracy)\n",
    "\n",
    "        print(f'Epoch [{epoch+1}/{num_epochs}], Loss: {avg_loss:.4f}, Accuracy: {epoch_accuracy:.2f}%')\n"
   ]
  },
  {
   "cell_type": "code",
   "execution_count": 14,
   "metadata": {},
   "outputs": [
    {
     "name": "stderr",
     "output_type": "stream",
     "text": [
      "Epoch 1/10: 100%|██████████| 263/263 [17:30<00:00,  4.00s/it, accuracy=1.15%, loss=2.58]\n"
     ]
    },
    {
     "name": "stdout",
     "output_type": "stream",
     "text": [
      "Epoch [1/10], Loss: 3.6626, Accuracy: 1.15%\n"
     ]
    },
    {
     "name": "stderr",
     "output_type": "stream",
     "text": [
      "Epoch 2/10: 100%|██████████| 263/263 [17:26<00:00,  3.98s/it, accuracy=8.98%, loss=1.6] \n"
     ]
    },
    {
     "name": "stdout",
     "output_type": "stream",
     "text": [
      "Epoch [2/10], Loss: 2.2683, Accuracy: 8.98%\n"
     ]
    },
    {
     "name": "stderr",
     "output_type": "stream",
     "text": [
      "Epoch 3/10: 100%|██████████| 263/263 [17:13<00:00,  3.93s/it, accuracy=49.89%, loss=0.496]\n"
     ]
    },
    {
     "name": "stdout",
     "output_type": "stream",
     "text": [
      "Epoch [3/10], Loss: 0.7047, Accuracy: 49.89%\n"
     ]
    },
    {
     "name": "stderr",
     "output_type": "stream",
     "text": [
      "Epoch 4/10: 100%|██████████| 263/263 [17:15<00:00,  3.94s/it, accuracy=64.06%, loss=0.259]\n"
     ]
    },
    {
     "name": "stdout",
     "output_type": "stream",
     "text": [
      "Epoch [4/10], Loss: 0.3677, Accuracy: 64.06%\n"
     ]
    },
    {
     "name": "stderr",
     "output_type": "stream",
     "text": [
      "Epoch 5/10: 100%|██████████| 263/263 [17:13<00:00,  3.93s/it, accuracy=71.71%, loss=0.177]\n"
     ]
    },
    {
     "name": "stdout",
     "output_type": "stream",
     "text": [
      "Epoch [5/10], Loss: 0.2517, Accuracy: 71.71%\n"
     ]
    },
    {
     "name": "stderr",
     "output_type": "stream",
     "text": [
      "Epoch 6/10: 100%|██████████| 263/263 [17:27<00:00,  3.98s/it, accuracy=74.77%, loss=0.147]\n"
     ]
    },
    {
     "name": "stdout",
     "output_type": "stream",
     "text": [
      "Epoch [6/10], Loss: 0.2086, Accuracy: 74.77%\n"
     ]
    },
    {
     "name": "stderr",
     "output_type": "stream",
     "text": [
      "Epoch 7/10: 100%|██████████| 263/263 [17:30<00:00,  4.00s/it, accuracy=78.83%, loss=0.115]\n"
     ]
    },
    {
     "name": "stdout",
     "output_type": "stream",
     "text": [
      "Epoch [7/10], Loss: 0.1631, Accuracy: 78.83%\n"
     ]
    },
    {
     "name": "stderr",
     "output_type": "stream",
     "text": [
      "Epoch 8/10: 100%|██████████| 263/263 [17:25<00:00,  3.98s/it, accuracy=81.67%, loss=0.093]\n"
     ]
    },
    {
     "name": "stdout",
     "output_type": "stream",
     "text": [
      "Epoch [8/10], Loss: 0.1321, Accuracy: 81.67%\n"
     ]
    },
    {
     "name": "stderr",
     "output_type": "stream",
     "text": [
      "Epoch 9/10: 100%|██████████| 263/263 [17:24<00:00,  3.97s/it, accuracy=81.71%, loss=0.0928]\n"
     ]
    },
    {
     "name": "stdout",
     "output_type": "stream",
     "text": [
      "Epoch [9/10], Loss: 0.1319, Accuracy: 81.71%\n"
     ]
    },
    {
     "name": "stderr",
     "output_type": "stream",
     "text": [
      "Epoch 10/10: 100%|██████████| 263/263 [17:21<00:00,  3.96s/it, accuracy=83.94%, loss=0.0778]"
     ]
    },
    {
     "name": "stdout",
     "output_type": "stream",
     "text": [
      "Epoch [10/10], Loss: 0.1105, Accuracy: 83.94%\n"
     ]
    },
    {
     "name": "stderr",
     "output_type": "stream",
     "text": [
      "\n"
     ]
    }
   ],
   "source": [
    "train_model(model, train_loader, criterion, optimizer)"
   ]
  },
  {
   "cell_type": "code",
   "execution_count": null,
   "metadata": {},
   "outputs": [],
   "source": [
    "torch.save(model.state_dict(), \"./model_weights/receipts_ocr_model.pth\")"
   ]
  },
  {
   "cell_type": "code",
   "execution_count": 16,
   "metadata": {},
   "outputs": [
    {
     "data": {
      "text/plain": [
       "CRNN(\n",
       "  (cnn): Sequential(\n",
       "    (0): Conv2d(1, 64, kernel_size=(3, 3), stride=(1, 1), padding=(1, 1))\n",
       "    (1): BatchNorm2d(64, eps=1e-05, momentum=0.1, affine=True, track_running_stats=True)\n",
       "    (2): ReLU()\n",
       "    (3): MaxPool2d(kernel_size=2, stride=2, padding=0, dilation=1, ceil_mode=False)\n",
       "    (4): Conv2d(64, 128, kernel_size=(3, 3), stride=(1, 1), padding=(1, 1))\n",
       "    (5): BatchNorm2d(128, eps=1e-05, momentum=0.1, affine=True, track_running_stats=True)\n",
       "    (6): ReLU()\n",
       "    (7): MaxPool2d(kernel_size=2, stride=2, padding=0, dilation=1, ceil_mode=False)\n",
       "    (8): Conv2d(128, 256, kernel_size=(3, 3), stride=(1, 1), padding=(1, 1))\n",
       "    (9): BatchNorm2d(256, eps=1e-05, momentum=0.1, affine=True, track_running_stats=True)\n",
       "    (10): ReLU()\n",
       "    (11): Conv2d(256, 256, kernel_size=(3, 3), stride=(1, 1), padding=(1, 1))\n",
       "    (12): BatchNorm2d(256, eps=1e-05, momentum=0.1, affine=True, track_running_stats=True)\n",
       "    (13): ReLU()\n",
       "    (14): MaxPool2d(kernel_size=(2, 1), stride=(2, 1), padding=0, dilation=1, ceil_mode=False)\n",
       "    (15): Conv2d(256, 512, kernel_size=(3, 3), stride=(1, 1), padding=(1, 1))\n",
       "    (16): BatchNorm2d(512, eps=1e-05, momentum=0.1, affine=True, track_running_stats=True)\n",
       "    (17): ReLU()\n",
       "    (18): Conv2d(512, 512, kernel_size=(3, 3), stride=(1, 1), padding=(1, 1))\n",
       "    (19): BatchNorm2d(512, eps=1e-05, momentum=0.1, affine=True, track_running_stats=True)\n",
       "    (20): ReLU()\n",
       "    (21): MaxPool2d(kernel_size=(2, 1), stride=(2, 1), padding=0, dilation=1, ceil_mode=False)\n",
       "    (22): Conv2d(512, 512, kernel_size=(2, 2), stride=(1, 1))\n",
       "    (23): BatchNorm2d(512, eps=1e-05, momentum=0.1, affine=True, track_running_stats=True)\n",
       "    (24): ReLU()\n",
       "  )\n",
       "  (rnn): Sequential(\n",
       "    (0): BidirectionalLSTM(\n",
       "      (rnn): LSTM(512, 256, bidirectional=True)\n",
       "      (linear): Linear(in_features=512, out_features=256, bias=True)\n",
       "    )\n",
       "    (1): BidirectionalLSTM(\n",
       "      (rnn): LSTM(256, 256, bidirectional=True)\n",
       "      (linear): Linear(in_features=512, out_features=63, bias=True)\n",
       "    )\n",
       "  )\n",
       ")"
      ]
     },
     "execution_count": 16,
     "metadata": {},
     "output_type": "execute_result"
    }
   ],
   "source": [
    "model.eval()"
   ]
  },
  {
   "cell_type": "code",
   "execution_count": null,
   "metadata": {},
   "outputs": [],
   "source": [
    "def evaluate_model(model, test_loader):\n",
    "    with torch.no_grad():\n",
    "        total_samples = 0\n",
    "        correct_samples = 0\n",
    "\n",
    "        # Wrap the test_loader with tqdm to create a progress bar\n",
    "        progress_bar = tqdm(test_loader, desc='Evaluating', leave=True)\n",
    "\n",
    "        for images, labels, label_lengths in progress_bar:\n",
    "            images = images.to(device)\n",
    "\n",
    "            # Forward pass\n",
    "            outputs = model(images)\n",
    "            outputs = outputs.log_softmax(2)\n",
    "\n",
    "            # Decode predictions\n",
    "            decoded_texts = decode_predictions(outputs)\n",
    "\n",
    "            # Prepare ground truth texts\n",
    "            labels_cpu = labels.cpu().numpy()\n",
    "            label_lengths_cpu = label_lengths.cpu().numpy()\n",
    "            idx = 0\n",
    "            ground_truth_texts = []\n",
    "            for length in label_lengths_cpu:\n",
    "                label_seq = labels_cpu[idx:idx+length]\n",
    "                text = ''.join([idx_to_char.get(l, '') for l in label_seq])\n",
    "                ground_truth_texts.append(text)\n",
    "                idx += length\n",
    "\n",
    "            # Compare predictions with ground truth\n",
    "            batch_correct = sum(pred_text == true_text for pred_text, true_text in zip(decoded_texts, ground_truth_texts))\n",
    "            correct_samples += batch_correct\n",
    "            total_samples += len(ground_truth_texts)\n",
    "\n",
    "            # Update the progress bar with current accuracy\n",
    "            accuracy = correct_samples / total_samples * 100 if total_samples > 0 else 0.0\n",
    "            progress_bar.set_postfix({'Accuracy': f'{accuracy:.2f}%'})\n",
    "\n",
    "        final_accuracy = correct_samples / total_samples * 100 if total_samples > 0 else 0.0\n",
    "        print(f'Test Accuracy: {final_accuracy:.2f}%')\n",
    "        return final_accuracy\n",
    "\n",
    "test_accuracy = evaluate_model(model, test_loader)"
   ]
  }
 ],
 "metadata": {
  "kernelspec": {
   "display_name": "receipts-OCR",
   "language": "python",
   "name": "python3"
  },
  "language_info": {
   "codemirror_mode": {
    "name": "ipython",
    "version": 3
   },
   "file_extension": ".py",
   "mimetype": "text/x-python",
   "name": "python",
   "nbconvert_exporter": "python",
   "pygments_lexer": "ipython3",
   "version": "3.11.4"
  }
 },
 "nbformat": 4,
 "nbformat_minor": 2
}
